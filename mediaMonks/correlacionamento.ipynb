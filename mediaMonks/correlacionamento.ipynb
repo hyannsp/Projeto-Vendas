{
 "cells": [
  {
   "cell_type": "code",
   "execution_count": 1,
   "id": "5486c717-6dbf-4dfd-aa8d-195bbfc647ea",
   "metadata": {
    "tags": []
   },
   "outputs": [],
   "source": [
    "import pandas as pd\n",
    "import seaborn as sns\n",
    "import matplotlib.pyplot as plt"
   ]
  },
  {
   "cell_type": "code",
   "execution_count": 3,
   "id": "237563d6-0c37-45a8-85b9-e08a024b854b",
   "metadata": {
    "tags": []
   },
   "outputs": [
    {
     "data": {
      "text/html": [
       "<div>\n",
       "<style scoped>\n",
       "    .dataframe tbody tr th:only-of-type {\n",
       "        vertical-align: middle;\n",
       "    }\n",
       "\n",
       "    .dataframe tbody tr th {\n",
       "        vertical-align: top;\n",
       "    }\n",
       "\n",
       "    .dataframe thead th {\n",
       "        text-align: right;\n",
       "    }\n",
       "</style>\n",
       "<table border=\"1\" class=\"dataframe\">\n",
       "  <thead>\n",
       "    <tr style=\"text-align: right;\">\n",
       "      <th></th>\n",
       "      <th>id_marca</th>\n",
       "      <th>marca</th>\n",
       "      <th>data</th>\n",
       "      <th>vendas</th>\n",
       "      <th>valor_do_veiculo</th>\n",
       "      <th>nome</th>\n",
       "      <th>receita</th>\n",
       "    </tr>\n",
       "  </thead>\n",
       "  <tbody>\n",
       "    <tr>\n",
       "      <th>0</th>\n",
       "      <td>1</td>\n",
       "      <td>Fiat</td>\n",
       "      <td>2022-01-01</td>\n",
       "      <td>40</td>\n",
       "      <td>29000</td>\n",
       "      <td>Mobi</td>\n",
       "      <td>1160000</td>\n",
       "    </tr>\n",
       "    <tr>\n",
       "      <th>1</th>\n",
       "      <td>1</td>\n",
       "      <td>Fiat</td>\n",
       "      <td>2022-01-01</td>\n",
       "      <td>2</td>\n",
       "      <td>49000</td>\n",
       "      <td>argo</td>\n",
       "      <td>98000</td>\n",
       "    </tr>\n",
       "    <tr>\n",
       "      <th>2</th>\n",
       "      <td>1</td>\n",
       "      <td>Fiat</td>\n",
       "      <td>2022-01-01</td>\n",
       "      <td>3</td>\n",
       "      <td>19000</td>\n",
       "      <td>Uno</td>\n",
       "      <td>57000</td>\n",
       "    </tr>\n",
       "    <tr>\n",
       "      <th>3</th>\n",
       "      <td>1</td>\n",
       "      <td>Fiat</td>\n",
       "      <td>2022-02-01</td>\n",
       "      <td>1</td>\n",
       "      <td>8000</td>\n",
       "      <td>Palio</td>\n",
       "      <td>8000</td>\n",
       "    </tr>\n",
       "    <tr>\n",
       "      <th>4</th>\n",
       "      <td>1</td>\n",
       "      <td>Fiat</td>\n",
       "      <td>2022-02-01</td>\n",
       "      <td>52</td>\n",
       "      <td>29000</td>\n",
       "      <td>Mobi</td>\n",
       "      <td>1508000</td>\n",
       "    </tr>\n",
       "  </tbody>\n",
       "</table>\n",
       "</div>"
      ],
      "text/plain": [
       "   id_marca marca        data  vendas  valor_do_veiculo   nome  receita\n",
       "0         1  Fiat  2022-01-01      40             29000   Mobi  1160000\n",
       "1         1  Fiat  2022-01-01       2             49000   argo    98000\n",
       "2         1  Fiat  2022-01-01       3             19000    Uno    57000\n",
       "3         1  Fiat  2022-02-01       1              8000  Palio     8000\n",
       "4         1  Fiat  2022-02-01      52             29000   Mobi  1508000"
      ]
     },
     "execution_count": 3,
     "metadata": {},
     "output_type": "execute_result"
    }
   ],
   "source": [
    "caminho_arquivo_csv = './tabela_unificada.csv'\n",
    "df = pd.read_csv(caminho_arquivo_csv, delimiter=\";\")\n",
    "df.head()"
   ]
  },
  {
   "cell_type": "code",
   "execution_count": 5,
   "id": "b93c32e0-0aa4-4da6-8709-b10bc7a83be7",
   "metadata": {
    "tags": []
   },
   "outputs": [
    {
     "data": {
      "text/html": [
       "<div>\n",
       "<style scoped>\n",
       "    .dataframe tbody tr th:only-of-type {\n",
       "        vertical-align: middle;\n",
       "    }\n",
       "\n",
       "    .dataframe tbody tr th {\n",
       "        vertical-align: top;\n",
       "    }\n",
       "\n",
       "    .dataframe thead th {\n",
       "        text-align: right;\n",
       "    }\n",
       "</style>\n",
       "<table border=\"1\" class=\"dataframe\">\n",
       "  <thead>\n",
       "    <tr style=\"text-align: right;\">\n",
       "      <th></th>\n",
       "      <th>vendas</th>\n",
       "      <th>valor_do_veiculo</th>\n",
       "    </tr>\n",
       "  </thead>\n",
       "  <tbody>\n",
       "    <tr>\n",
       "      <th>vendas</th>\n",
       "      <td>1.000000</td>\n",
       "      <td>-0.148834</td>\n",
       "    </tr>\n",
       "    <tr>\n",
       "      <th>valor_do_veiculo</th>\n",
       "      <td>-0.148834</td>\n",
       "      <td>1.000000</td>\n",
       "    </tr>\n",
       "  </tbody>\n",
       "</table>\n",
       "</div>"
      ],
      "text/plain": [
       "                    vendas  valor_do_veiculo\n",
       "vendas            1.000000         -0.148834\n",
       "valor_do_veiculo -0.148834          1.000000"
      ]
     },
     "execution_count": 5,
     "metadata": {},
     "output_type": "execute_result"
    }
   ],
   "source": [
    "matriz_correlacao = df[['vendas', 'valor_do_veiculo']].corr()\n",
    "matriz_correlacao"
   ]
  },
  {
   "cell_type": "code",
   "execution_count": 7,
   "id": "d436b2a9-261e-456d-80fb-5ecc24ea45be",
   "metadata": {
    "tags": []
   },
   "outputs": [
    {
     "data": {
      "image/png": "[encoded data removed]",
      "text/plain": [
       "<Figure size 800x600 with 2 Axes>"
      ]
     },
     "metadata": {},
     "output_type": "display_data"
    }
   ],
   "source": [
    "sns.set(style='whitegrid')\n",
    "plt.figure(figsize=(8, 6))\n",
    "sns.heatmap(matriz_correlacao, annot=True, cmap='Blues', fmt='.2f')\n",
    "plt.title('Heatmap de Correlação entre Vendas e Valor do Veículo')\n",
    "plt.show()"
   ]
  }
 ],
 "metadata": {
  "kernelspec": {
   "display_name": "Python 3 (ipykernel)",
   "language": "python",
   "name": "python3"
  },
  "language_info": {
   "codemirror_mode": {
    "name": "ipython",
    "version": 3
   },
   "file_extension": ".py",
   "mimetype": "text/x-python",
   "name": "python",
   "nbconvert_exporter": "python",
   "pygments_lexer": "ipython3",
   "version": "3.11.5"
  }
 },
 "nbformat": 4,
 "nbformat_minor": 5
}
